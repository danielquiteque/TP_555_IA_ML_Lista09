{
 "cells": [
  {
   "cell_type": "code",
   "execution_count": 15,
   "metadata": {},
   "outputs": [],
   "source": [
    "# Import all necessary libraries.\n",
    "from sklearn.datasets import make_moons\n",
    "from sklearn.cluster import KMeans"
   ]
  },
  {
   "cell_type": "code",
   "execution_count": 22,
   "metadata": {},
   "outputs": [],
   "source": [
    "X, y = make_moons(n_samples=9, noise=0.30, random_state=42)\n",
    "\n",
    "centroids, y = make_moons(n_samples=3, noise=0.30, random_state=42)\n",
    "\n",
    "# Split data into train and test subsets.\n",
    "#X_train, X_test, y_train, y_test = train_test_split (X, y, test_size=0.2, random_state=42)"
   ]
  },
  {
   "cell_type": "code",
   "execution_count": 25,
   "metadata": {},
   "outputs": [],
   "source": [
    "X[0] = [1,4]\n",
    "X[1] = [4,3]\n",
    "X[2] = [4,5]\n",
    "X[3] = [3,6]\n",
    "X[4] = [6,7]\n",
    "X[5] = [3,3]\n",
    "X[6] = [2,5]\n",
    "X[7] = [2,2]\n",
    "X[8] = [2,3]\n",
    "\n",
    "centroids[0] = [5,3]\n",
    "centroids[1] = [1,3]\n",
    "centroids[2] = [3,4]"
   ]
  },
  {
   "cell_type": "code",
   "execution_count": 64,
   "metadata": {},
   "outputs": [
    {
     "data": {
      "image/png": "[encoded data removed]",
      "text/plain": [
       "<Figure size 432x288 with 1 Axes>"
      ]
     },
     "metadata": {
      "needs_background": "light"
     },
     "output_type": "display_data"
    }
   ],
   "source": [
    "x1 = [1,4,4,3,6,3,2,2,2]\n",
    "x2 = [4,3,5,6,7,3,5,2,3]\n",
    "\n",
    "plt.scatter(x1,x2)\n",
    "plt.xlabel('$x_1$')\n",
    "plt.ylabel('$x_2$')\n",
    "plt.title('a) figura com os dados de treinamento')\n",
    "plt.show()"
   ]
  },
  {
   "cell_type": "code",
   "execution_count": 30,
   "metadata": {},
   "outputs": [
    {
     "name": "stderr",
     "output_type": "stream",
     "text": [
      "C:\\Users\\Mauro\\anaconda3\\lib\\site-packages\\ipykernel_launcher.py:3: RuntimeWarning: Explicit initial center position passed: performing only one init in k-means instead of n_init=10\n",
      "  This is separate from the ipykernel package so we can avoid doing imports until\n"
     ]
    },
    {
     "data": {
      "text/plain": [
       "KMeans(algorithm='auto', copy_x=True,\n",
       "       init=array([[5., 3.],\n",
       "       [1., 3.],\n",
       "       [3., 4.]]), max_iter=300,\n",
       "       n_clusters=3, n_init=10, n_jobs=None, precompute_distances='auto',\n",
       "       random_state=None, tol=0.0001, verbose=0)"
      ]
     },
     "execution_count": 30,
     "metadata": {},
     "output_type": "execute_result"
    }
   ],
   "source": [
    "km = KMeans(n_clusters=3, init=centroids)\n",
    "\n",
    "km.fit(X)"
   ]
  },
  {
   "cell_type": "code",
   "execution_count": 65,
   "metadata": {},
   "outputs": [
    {
     "name": "stdout",
     "output_type": "stream",
     "text": [
      "c) valores óptimos para centroids\n",
      "Centroid 0: (6.00, 7.00)\n",
      "Centroid 1: (2.00, 3.00)\n",
      "Centroid 2: (3.25, 4.75)\n"
     ]
    }
   ],
   "source": [
    "print('c) valores óptimos para centroids')\n",
    "for i in range(0,3):\n",
    "    print('Centroid %d: (%1.2f, %1.2f)' % (i,km.cluster_centers_[i][0],km.cluster_centers_[i][1]))"
   ]
  },
  {
   "cell_type": "code",
   "execution_count": 66,
   "metadata": {},
   "outputs": [
    {
     "name": "stdout",
     "output_type": "stream",
     "text": [
      "d) Foram necessárias 4 Iterações para treinar o modelo\n"
     ]
    }
   ],
   "source": [
    "print('d) Foram necessárias',km.n_iter_, 'Iterações para treinar o modelo')"
   ]
  },
  {
   "cell_type": "code",
   "execution_count": 50,
   "metadata": {},
   "outputs": [],
   "source": [
    "y = km.labels_"
   ]
  },
  {
   "cell_type": "code",
   "execution_count": 62,
   "metadata": {},
   "outputs": [
    {
     "data": {
      "image/png": "[encoded data removed]",
      "text/plain": [
       "<Figure size 360x360 with 1 Axes>"
      ]
     },
     "metadata": {
      "needs_background": "light"
     },
     "output_type": "display_data"
    }
   ],
   "source": [
    "idx0 = np.argwhere(y == 0)\n",
    "idx1 = np.argwhere(y == 1)\n",
    "idx2 = np.argwhere(y == 2)\n",
    "\n",
    "fig = plt.figure(figsize=(5,5))\n",
    "plt.plot(X[idx0,0], X[idx0,1], 'rx', color='blue', label='Class 0')\n",
    "plt.plot(X[idx1,0], X[idx1,1], 'rx', color='red', label='Class 1')\n",
    "plt.plot(X[idx2,0], X[idx2,1], 'rx', color='violet', label='Class 2')\n",
    "plt.xlabel('$x_1$')\n",
    "plt.ylabel('$x_2$')\n",
    "plt.title('e) clusteres a que cada um pertence')\n",
    "plt.legend()\n",
    "plt.show()"
   ]
  }
 ],
 "metadata": {
  "kernelspec": {
   "display_name": "Python 3",
   "language": "python",
   "name": "python3"
  },
  "language_info": {
   "codemirror_mode": {
    "name": "ipython",
    "version": 3
   },
   "file_extension": ".py",
   "mimetype": "text/x-python",
   "name": "python",
   "nbconvert_exporter": "python",
   "pygments_lexer": "ipython3",
   "version": "3.6.10"
  }
 },
 "nbformat": 4,
 "nbformat_minor": 4
}
