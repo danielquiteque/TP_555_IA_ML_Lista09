{
 "cells": [
  {
   "cell_type": "markdown",
   "metadata": {},
   "source": [
    "**1. Cite alguns exemplos de aplicações reais do algoritmo k-Means.**\n",
    "\n",
    "R: O algoritmo de K-means pode ser usado para: \n",
    "    Encontrar grupos de clientes com um perfil de compra idêntico\n",
    "    Encontrar separações ótimas para a decodificação de uma modulação.\n"
   ]
  },
  {
   "cell_type": "code",
   "execution_count": null,
   "metadata": {},
   "outputs": [],
   "source": []
  }
 ],
 "metadata": {
  "kernelspec": {
   "display_name": "Python 3",
   "language": "python",
   "name": "python3"
  },
  "language_info": {
   "codemirror_mode": {
    "name": "ipython",
    "version": 3
   },
   "file_extension": ".py",
   "mimetype": "text/x-python",
   "name": "python",
   "nbconvert_exporter": "python",
   "pygments_lexer": "ipython3",
   "version": "3.6.10"
  }
 },
 "nbformat": 4,
 "nbformat_minor": 4
}
