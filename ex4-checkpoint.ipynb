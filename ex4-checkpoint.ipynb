{
 "cells": [
  {
   "cell_type": "code",
   "execution_count": 47,
   "metadata": {},
   "outputs": [],
   "source": [
    "# Import all necessary libraries.\n",
    "from sklearn.datasets import make_blobs\n",
    "from sklearn.cluster import KMeans\n",
    "import matplotlib.pyplot as plt\n",
    "import numpy as np\n",
    "import math  \n",
    "from sklearn.metrics import silhouette_samples, silhouette_score\n",
    "from scipy.special import erfc\n"
   ]
  },
  {
   "cell_type": "code",
   "execution_count": 48,
   "metadata": {},
   "outputs": [],
   "source": [
    "np.random.seed(40)"
   ]
  },
  {
   "cell_type": "code",
   "execution_count": 67,
   "metadata": {},
   "outputs": [],
   "source": [
    "def demod(c):\n",
    "    c_seq = np.mod(np.array([0,1]), c)\n",
    "    c_seq = c_seq[:,0]\n",
    "    e = []\n",
    "    for i in range(0,len(c_seq)):\n",
    "        e.append(np.abs(c_seq[i] - c[i])**2)\n",
    "    return e.index(np.min(e))"
   ]
  },
  {
   "cell_type": "code",
   "execution_count": 27,
   "metadata": {},
   "outputs": [],
   "source": [
    "# Number of BPSK symbols to be transmitted.\n",
    "N = 1000000"
   ]
  },
  {
   "cell_type": "code",
   "execution_count": 28,
   "metadata": {},
   "outputs": [],
   "source": [
    "# Create Es/N0 vector.\n",
    "EsN0dB = np.arange(-2,22,2)\n",
    "\n",
    "ser_simu = np.zeros(len(EsN0dB))\n",
    "ser_theo = np.zeros(len(EsN0dB))\n",
    "\n",
    "n_clusters=2\n",
    "km_re = KMeans(n_clusters=n_clusters)\n",
    "\n",
    "km_im = KMeans(n_clusters=n_clusters)\n",
    "\n",
    "ber_theo = ber_simu = np.zeros(len(EsN0dB))\n",
    "for idx in range(0,len(EsN0dB)):    \n",
    "    \n",
    "    km_re = KMeans(n_clusters=n_clusters, random_state=42)\n",
    "\n",
    "    km_im = KMeans(n_clusters=n_clusters, random_state=42)\n",
    "    \n",
    "    EsN0Lin = 10.0**(-(EsN0dB[idx]/10.0))\n",
    "    \n",
    "    \n",
    "    \n",
    "    # Generate N QPSK symbols.\n",
    "    x = (2.0 * (np.random.rand(N, 1) >= 0.5) - 1.0) + 1j*(2.0 * (np.random.rand(N, 1) >=0.5) - 1.0)\n",
    "    # Normalization of energy to 1.\n",
    "    s = (1/np.sqrt(2))*x;\n",
    "\n",
    "    \n",
    "    # Generate noise vector with unitary variance.\n",
    "    noise = np.sqrt(1.0/2.0)*(np.random.randn(N, 1) + 1j*np.random.randn(N, 1))\n",
    "\n",
    "    \n",
    "    # Pass symbols through AWGN channel.\n",
    "    y = s + np.sqrt(EsN0Lin)*noise\n",
    "    \n",
    "    # Fit model for real part.\n",
    "    km_re.fit(y.real)\n",
    "    \n",
    "    # Fit model for imaginary parts.\n",
    "    km_im.fit(y.imag)\n",
    "    \n",
    "    # Prediction for real part.\n",
    "    detected_x_re = km_re.labels_\n",
    "    detected_x_re = detected_x_re.reshape(len(x), 1)\n",
    "    \n",
    "    # Prediction for imaginary part.\n",
    "    detected_x_im = km_im.labels_\n",
    "    detected_x_im = detected_x_im.reshape(len(x), 1)\n",
    "    \n",
    "    #print('real')\n",
    "    #print(demod(km_re.cluster_centers_))\n",
    "    #print('imag')\n",
    "    #print(demod(km_im.cluster_centers_))\n",
    "    \n",
    "    \n",
    "    # Simulated QPSK BER.\n",
    "    error_re = (x.real != detected_x_re)\n",
    "    \n",
    "    error_im = (x.imag != detected_x_im)\n",
    "    error = 0;\n",
    "    for i in range(0, N):\n",
    "        if(error_re[i]==True or error_im[i]==True):\n",
    "            error = error + 1\n",
    "        \n",
    "    ser_simu[idx] = 1.0 * error / N\n",
    "    \n",
    "    # Theoretical QPSK BER.\n",
    "    ser_theo[idx] = erfc( np.sqrt( 0.5*(10.0**(EsN0dB[idx]/10.0)) ) ) - (1/4)*(erfc(np.sqrt(0.5*(10.0**(EsN0dB[idx]/10.0)))))**2.0"
   ]
  },
  {
   "cell_type": "code",
   "execution_count": null,
   "metadata": {},
   "outputs": [],
   "source": []
  },
  {
   "cell_type": "code",
   "execution_count": 55,
   "metadata": {},
   "outputs": [
    {
     "name": "stdout",
     "output_type": "stream",
     "text": [
      "[[-0.70719865]\n",
      " [ 0.70682065]] [[ 0.70719248]\n",
      " [-0.70723829]]\n"
     ]
    }
   ],
   "source": [
    "centroid = km_re.cluster_centers_\n",
    "print(km_re.cluster_centers_, km_im.cluster_centers_)"
   ]
  },
  {
   "cell_type": "code",
   "execution_count": 68,
   "metadata": {},
   "outputs": [
    {
     "data": {
      "text/plain": [
       "1"
      ]
     },
     "execution_count": 68,
     "metadata": {},
     "output_type": "execute_result"
    }
   ],
   "source": [
    "demod(km_re.cluster_centers_)"
   ]
  },
  {
   "cell_type": "code",
   "execution_count": null,
   "metadata": {},
   "outputs": [],
   "source": [
    "print(detected_x_re[0:20])"
   ]
  },
  {
   "cell_type": "code",
   "execution_count": 142,
   "metadata": {},
   "outputs": [
    {
     "name": "stdout",
     "output_type": "stream",
     "text": [
      "[[-1]\n",
      " [ 1]\n",
      " [-1]\n",
      " [ 1]\n",
      " [ 1]\n",
      " [-1]\n",
      " [-1]\n",
      " [-1]\n",
      " [ 1]\n",
      " [ 1]\n",
      " [ 1]\n",
      " [ 1]\n",
      " [ 1]\n",
      " [-1]\n",
      " [ 1]\n",
      " [ 1]\n",
      " [-1]\n",
      " [ 1]\n",
      " [-1]\n",
      " [-1]]\n"
     ]
    }
   ],
   "source": [
    "print(detected_x_im[0:20])"
   ]
  },
  {
   "cell_type": "code",
   "execution_count": 143,
   "metadata": {},
   "outputs": [
    {
     "name": "stdout",
     "output_type": "stream",
     "text": [
      "Es/N0:-2 \t- SER: 8.319030e-01\n",
      "Es/N0:0 \t- SER: 2.921120e-01\n",
      "Es/N0:2 \t- SER: 9.890830e-01\n",
      "Es/N0:4 \t- SER: 9.462470e-01\n",
      "Es/N0:6 \t- SER: 9.994920e-01\n",
      "Es/N0:8 \t- SER: 9.939480e-01\n",
      "Es/N0:10 \t- SER: 9.992780e-01\n",
      "Es/N0:12 \t- SER: 9.999670e-01\n",
      "Es/N0:14 \t- SER: 1.000000e+00\n",
      "Es/N0:16 \t- SER: 0.000000e+00\n",
      "Es/N0:18 \t- SER: 1.000000e+00\n",
      "Es/N0:20 \t- SER: 0.000000e+00\n"
     ]
    }
   ],
   "source": [
    "# Print Es/N0 versus SER values.\n",
    "for i in range(0,len(ser_simu)): print('Es/N0:%d \\t- SER: %e' % (EsN0dB[i], ser_simu[i]))"
   ]
  },
  {
   "cell_type": "code",
   "execution_count": 144,
   "metadata": {},
   "outputs": [
    {
     "data": {
      "image/png": "[encoded data removed]",
      "text/plain": [
       "<Figure size 504x504 with 1 Axes>"
      ]
     },
     "metadata": {
      "needs_background": "light"
     },
     "output_type": "display_data"
    }
   ],
   "source": [
    "# Plot Es/N0 versus BER values.\n",
    "fig = plt.figure(figsize=(7,7))\n",
    "plt.plot(EsN0dB, ser_theo, label='theoretical')\n",
    "plt.plot(EsN0dB, ser_simu, 'ro', label='simulated')\n",
    "plt.xscale('linear')\n",
    "plt.yscale('log')\n",
    "plt.xlabel('Es/N0 [dB]')\n",
    "plt.ylabel('SER')\n",
    "plt.grid(True)\n",
    "plt.title('QPSK detection')\n",
    "plt.legend()\n",
    "#plt.xlim([-10, 10])\n",
    "#plt.ylim([1e-5, 1])\n",
    "plt.show()"
   ]
  },
  {
   "cell_type": "code",
   "execution_count": 145,
   "metadata": {},
   "outputs": [
    {
     "name": "stdout",
     "output_type": "stream",
     "text": [
      "[[-0.71985036-0.79423741j]\n",
      " [ 0.76114214+0.64477534j]\n",
      " [-0.64363407-0.87316882j]\n",
      " ...\n",
      " [-0.66788417+0.65968845j]\n",
      " [ 0.7205645 +0.59547346j]\n",
      " [ 0.6593078 +0.5526863j ]]\n",
      "[[-1.-1.j]\n",
      " [ 1.+1.j]\n",
      " [-1.-1.j]\n",
      " ...\n",
      " [-1.+1.j]\n",
      " [ 1.+1.j]\n",
      " [ 1.+1.j]]\n"
     ]
    }
   ],
   "source": [
    "print(y)\n",
    "print(x)"
   ]
  },
  {
   "cell_type": "code",
   "execution_count": null,
   "metadata": {},
   "outputs": [],
   "source": []
  },
  {
   "cell_type": "code",
   "execution_count": null,
   "metadata": {},
   "outputs": [],
   "source": []
  }
 ],
 "metadata": {
  "kernelspec": {
   "display_name": "Python 3",
   "language": "python",
   "name": "python3"
  },
  "language_info": {
   "codemirror_mode": {
    "name": "ipython",
    "version": 3
   },
   "file_extension": ".py",
   "mimetype": "text/x-python",
   "name": "python",
   "nbconvert_exporter": "python",
   "pygments_lexer": "ipython3",
   "version": "3.6.10"
  }
 },
 "nbformat": 4,
 "nbformat_minor": 4
}
